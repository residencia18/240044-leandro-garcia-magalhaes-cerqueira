{
 "cells": [
  {
   "cell_type": "markdown",
   "id": "a0d2fba0",
   "metadata": {},
   "source": [
    "#                                            PP-P001 - EXERCÍCIOS\n",
    "\n",
    "\n"
   ]
  },
  {
   "cell_type": "markdown",
   "id": "ce74d676",
   "metadata": {},
   "source": [
    "### Exercício 2 : Manipulação de variáveis de tipo inteiro, explorando as características e os limites:\n",
    "\n",
    "- 2.1:\n",
    "\n",
    "\n"
   ]
  },
  {
   "cell_type": "code",
   "execution_count": null,
   "id": "27da6fa2",
   "metadata": {
    "scrolled": true
   },
   "outputs": [],
   "source": [
    "\"\"\"\"A principal diferença entre Python e C/C++ é que em python a tipagem é dinâmica, isso quer dizer que não precisaremos\n",
    "definir qual o tipo da variável antes de declarar a mesma, basta digitarmos o seu nome, seguido de um operador de atribuição e\n",
    "logo em seguida o valor que deseja que a variável \"aponte\".\"\"\"\"\"\n",
    "\n",
    "''' Exceto os operadores de soma, subtração, multiplicação e divisão e módulo, o python possui algumas novidades em relação ao c/c++:'''\n",
    "\n",
    "a = 6\n",
    "b = 2\n",
    "\n",
    "# Divisão truncada - divide o quociente e remove a parte fracionária\n",
    "divTruncada = a // b\n",
    "print(divTruncada)\n",
    "\n",
    "# Exponenciação - a elevado à potência de b\n",
    "exponeciacao = a ** b # Para fazer isso em c/c++ nós precisamos importar a biblioteca math.h e utilizar a função pow().\n",
    "print(exponeciacao)\n",
    "\n",
    "# Unário negativo - retorna o valor negativo contido na variável, nesse caso o valor de 'a'.\n",
    "unarioNegativo = -a #\n",
    "print(unarioNegativo)\n",
    "\n"
   ]
  },
  {
   "cell_type": "markdown",
   "id": "b3041ae6",
   "metadata": {},
   "source": [
    "- 2.2:"
   ]
  },
  {
   "cell_type": "code",
   "execution_count": null,
   "id": "56bfb4b1",
   "metadata": {},
   "outputs": [],
   "source": [
    "valor = 30\n",
    "fatorial = 1\n",
    "\n",
    "while (valor > 1):\n",
    "    fatorial = fatorial * valor\n",
    "    valor = valor - 1\n",
    "print('O fatorial de 30 é: ', fatorial)"
   ]
  },
  {
   "cell_type": "markdown",
   "id": "fee6da57",
   "metadata": {},
   "source": [
    "Em relação a C/C++, o maior valor que pode ser representado em C/C++ é: 2147483647. Portando, vemos uma enorme diferença em relação as duas linguagens."
   ]
  },
  {
   "cell_type": "markdown",
   "id": "6c61da0b",
   "metadata": {},
   "source": [
    "- 2.3"
   ]
  },
  {
   "cell_type": "markdown",
   "id": "60772ef3",
   "metadata": {},
   "source": [
    " Váriáveis numéricas são imutáveis. Isto significa que não é possível mudar\n",
    "os valores armazenados na variável mas, apenas, mudar para qual espaço da memória está sendo\n",
    "referenciado. Exemplo: "
   ]
  },
  {
   "cell_type": "code",
   "execution_count": null,
   "id": "1e464d2b",
   "metadata": {},
   "outputs": [],
   "source": [
    "\n",
    "\n",
    "x = 100\n",
    "y = x\n",
    "\n",
    "print(\"Inicialmente: \")\n",
    "print(\"X = \",x, \"e Y, que 'aponta' pra x recebe: \",y)\n",
    "print(\"Se fizermos uma alteração no valor de X, como por exemplo incrementar +1, temos que... \")\n",
    "x += 1\n",
    "print(\"Agora, X = \", x, \", enquanto Y = \", y)\n",
    "\n",
    "\n",
    "\n",
    "    "
   ]
  },
  {
   "cell_type": "markdown",
   "id": "0ff6d358",
   "metadata": {},
   "source": [
    "- 2.4"
   ]
  },
  {
   "cell_type": "markdown",
   "id": "694f815f",
   "metadata": {},
   "source": [
    "Além dos números inteiros suportarem operadores matemáticos padrão, como adição, subtração, multiplicação, divisão, exponenciação, etc. Eles suportam métodos como por exemplo: "
   ]
  },
  {
   "cell_type": "code",
   "execution_count": null,
   "id": "fb40c27d",
   "metadata": {},
   "outputs": [],
   "source": [
    "num = 42\n",
    "\n",
    "print(num.bit_length()) # Retorna o número mínimo de bits necessários para representar o valor inteiro, excluindo os zeros à esquerda.\n",
    "print(num.denominator) # Retorna o denominador do número fracionário equivalente ao inteiro. Para inteiros, o denominador é 1.\n",
    "print(num.numerator) # Retorna o numerador do número fracionário equivalente ao inteiro. Como inteiros não possuem parte fracionária, o numerador é o próprio número."
   ]
  },
  {
   "cell_type": "markdown",
   "id": "46afbef2",
   "metadata": {},
   "source": [
    "### Exercício 3: Manipulação de variáveis de tipo string e explorando o uso de print:"
   ]
  },
  {
   "cell_type": "markdown",
   "id": "aa14126e",
   "metadata": {},
   "source": [
    "- 3.1"
   ]
  },
  {
   "cell_type": "code",
   "execution_count": null,
   "id": "1a82c092",
   "metadata": {},
   "outputs": [],
   "source": [
    "caractere = '0'\n",
    "valorInteiro = int(caractere)\n",
    "\n",
    "for i in range(10):\n",
    "    print(\"Em caractere: \", caractere, \" | Em valor numérico: \", ord(caractere))\n",
    "    valorInteiro += 1\n",
    "    caractere = str(valorInteiro)\n",
    "    \n",
    "    \n"
   ]
  },
  {
   "cell_type": "markdown",
   "id": "df9cc747",
   "metadata": {},
   "source": [
    "- 3.2"
   ]
  },
  {
   "cell_type": "code",
   "execution_count": null,
   "id": "40a5ef45",
   "metadata": {},
   "outputs": [],
   "source": [
    "caractere = '0'\n",
    "valorInteiro = int(caractere)\n",
    "\n",
    "for i in range(10):\n",
    "    print(\"Em caractere: \", caractere, \" | Em valor numérico: \", ord(caractere), \" | Em octal: \", oct(i), \" | Em hexadecimal: \", hex(i))\n",
    "    print(\"----------------------------------------------------------------------------------------\")\n",
    "    valorInteiro += 1\n",
    "    caractere = str(valorInteiro)\n",
    "    "
   ]
  },
  {
   "cell_type": "markdown",
   "id": "6dde7e85",
   "metadata": {},
   "source": [
    "- 3.3"
   ]
  },
  {
   "cell_type": "code",
   "execution_count": null,
   "id": "2fcd70b1",
   "metadata": {},
   "outputs": [],
   "source": [
    "cString = input(\"Insira um caractere: \")\n",
    "cInteiro = ord(cString)\n",
    "print(\"Em caractere: \", cString, \" | Em valor numérico: \", cInteiro, \" | Em octal: \", oct(cInteiro), \" | Em hexadecimal: \", hex(cInteiro))"
   ]
  },
  {
   "cell_type": "markdown",
   "id": "bab59cc8",
   "metadata": {},
   "source": [
    "- 3.4"
   ]
  },
  {
   "cell_type": "markdown",
   "id": "190699f7",
   "metadata": {},
   "source": [
    "\n",
    "Em Python, a manipulação de caracteres especiais, como 'ç' e 'ã', é geralmente tratada sem problemas, pois o Python 3 usa Unicode por padrão para representar caracteres. Isso significa que posso trabalhar com caracteres especiais normalmente, nem necessidade de um tratamento específico, diferente de linguagens como C/C++. Exemplo:"
   ]
  },
  {
   "cell_type": "code",
   "execution_count": null,
   "id": "131835e1",
   "metadata": {},
   "outputs": [],
   "source": [
    "cString = input(\"Insira um caractere: \")\n",
    "cInteiro = ord(cString)\n",
    "print(\"Em caractere: \", cString, \" | Em valor numérico: \", cInteiro, \" | Em octal: \", oct(cInteiro), \" | Em hexadecimal: \", hex(cInteiro))"
   ]
  },
  {
   "cell_type": "markdown",
   "id": "770e8c34",
   "metadata": {},
   "source": [
    "### Exercício 4: Manipulação de variáveis de tipo string e explorando os métodos da classe."
   ]
  },
  {
   "cell_type": "markdown",
   "id": "ba7dbef8",
   "metadata": {},
   "source": [
    "- 4.1"
   ]
  },
  {
   "cell_type": "code",
   "execution_count": null,
   "id": "67844d98",
   "metadata": {},
   "outputs": [],
   "source": [
    "name = \"Leandro Garcia\""
   ]
  },
  {
   "cell_type": "markdown",
   "id": "b141ef40",
   "metadata": {},
   "source": [
    "- 4.2"
   ]
  },
  {
   "cell_type": "code",
   "execution_count": null,
   "id": "4dd21901",
   "metadata": {},
   "outputs": [],
   "source": [
    "name = \"Leandro Garcia\"\n",
    "splitName = name.split()\n",
    "firstName = splitName[0]\n",
    "lastName = splitName[1]\n",
    "\n",
    "print(splitName)\n",
    "print(firstName)\n",
    "print(lastName)\n"
   ]
  },
  {
   "cell_type": "markdown",
   "id": "5251981b",
   "metadata": {},
   "source": [
    "- 4.3"
   ]
  },
  {
   "cell_type": "code",
   "execution_count": null,
   "id": "bf20ae63",
   "metadata": {},
   "outputs": [],
   "source": [
    "name = \"Leandro Garcia\"\n",
    "splitName = name.split()\n",
    "firstName = splitName[0]\n",
    "lastName = splitName[1]\n",
    "\n",
    "ordemAlfabetica = min(firstName, lastName)\n",
    "\n",
    "print(\"Dentre os nomes, o que vem primeiro em ordem alfabética é:\", ordemAlfabetica)"
   ]
  },
  {
   "cell_type": "markdown",
   "id": "4616db62",
   "metadata": {},
   "source": [
    "- 4.4"
   ]
  },
  {
   "cell_type": "code",
   "execution_count": null,
   "id": "bbbdf235",
   "metadata": {},
   "outputs": [],
   "source": [
    "name = \"Leandro Garcia\"\n",
    "splitName = name.split()\n",
    "firstName = splitName[0]\n",
    "lastName = splitName[1]\n",
    "\n",
    "fComprimento = len(firstName)\n",
    "lComprimento = len(lastName)\n",
    "\n",
    "print(\"O primeiro nome contém \",fComprimento, \" caracteres.\")\n",
    "print(\"O último nome contém \",lComprimento, \" caracteres.\")"
   ]
  },
  {
   "cell_type": "markdown",
   "id": "48ad7626",
   "metadata": {},
   "source": [
    "- 4.5"
   ]
  },
  {
   "cell_type": "code",
   "execution_count": null,
   "id": "86bbacca",
   "metadata": {},
   "outputs": [],
   "source": [
    "name = \"Leandro Garcia\"\n",
    "splitName = name.split()\n",
    "firstName = splitName[0]\n",
    "lastName = splitName[1]\n",
    "\n",
    "\n",
    "\n",
    "def isPalindrome(firstName):\n",
    "    processedName = firstName.lower()\n",
    "    \n",
    "    return processedName == processedName[::-1]\n",
    "\n",
    "print(firstName, \"É um palíndromo?: \", isPalindrome(firstName))"
   ]
  },
  {
   "cell_type": "markdown",
   "id": "bdc8f921",
   "metadata": {},
   "source": [
    "### Exercício 5: Manipulação de variáveis de ponto flutuante, explorando as características e os limites."
   ]
  },
  {
   "cell_type": "markdown",
   "id": "2bb5ec63",
   "metadata": {},
   "source": [
    "- 5.1"
   ]
  },
  {
   "cell_type": "code",
   "execution_count": null,
   "id": "ec016793",
   "metadata": {},
   "outputs": [],
   "source": [
    "\"\"\"\"A principal diferença entre Python e C/C++ é que em python a tipagem é dinâmica, isso quer dizer que não precisaremos\n",
    "definir qual o tipo da variável antes de declarar a mesma, basta digitarmos o seu nome, seguido de um operador de atribuição e\n",
    "logo em seguida o valor que deseja que a variável \"aponte\".\"\"\"\"\"\n",
    "\n",
    "''' Exceto os operadores de soma, subtração, multiplicação e divisão e módulo, o python possui algumas novidades em relação ao c/c++:'''\n",
    "\n",
    "a = 6.7\n",
    "b = 2.7\n",
    "\n",
    "print(\"a = \", a)\n",
    "print(\"b =\", b)\n",
    "# Divisão truncada - divide o quociente e remove a parte fracionária\n",
    "divTruncada = a // b\n",
    "print(\"Divisão truncada: \",divTruncada)\n",
    "\n",
    "# Exponenciação - a elevado à potência de b\n",
    "exponeciacao = a ** b # Para fazer isso em c/c++ nós precisamos importar a biblioteca math.h e utilizar a função pow().\n",
    "print(\"Exponenciação: \",exponeciacao)\n",
    "\n",
    "# Unário negativo - retorna o valor negativo contido na variável, nesse caso o valor de 'a'.\n",
    "unarioNegativo = -a #\n",
    "print(\"Valor negativo: de 'a':\",unarioNegativo)\n",
    "\n",
    "\n",
    "'''IMPORTANTE! Em Python os números de ponto flutuante são truncados internamente, por padrão, em 52 bits\n",
    "após o primeiro bit diferente de zero. Devemos então levar em consideração que a aritmética de\n",
    "ponto flutuante é sempre aproximada e testes de igualdade estrita NÃO são recomendados quando\n",
    "envolvidas este tipo de operações."
   ]
  },
  {
   "cell_type": "markdown",
   "id": "9fe1344a",
   "metadata": {},
   "source": [
    "5.2"
   ]
  },
  {
   "cell_type": "code",
   "execution_count": null,
   "id": "52e2d800",
   "metadata": {},
   "outputs": [],
   "source": [
    "import sys #É necessário importar a biblioteca 'sys'\n",
    "\n",
    "menorPotenciaDoisFloat = 2.0 ** sys.float_info.min_10_exp\n",
    "maiorPotenciaDoisFloat = 2.0 ** sys.float_info.max_10_exp\n",
    "\n",
    "print(\"A menor potência de 2 representada em variáveis de ponto flutuante: \", menorPotenciaDoisFloat)\n",
    "print(\"A maior potência de 2 representada em variáveis de ponto flutuante: \", maiorPotenciaDoisFloat)"
   ]
  },
  {
   "cell_type": "markdown",
   "id": "846981d1",
   "metadata": {},
   "source": [
    "- 5.3"
   ]
  },
  {
   "cell_type": "markdown",
   "id": "7c12f4bb",
   "metadata": {},
   "source": [
    "Para simplificar o tratamento das operações aritméticas, em Python os números, strings e outros\n",
    "tipos de variáveis simples são tratados como imutáveis. Isto significa que não é possível mudar\n",
    "os valores armazenados na variável mas, apenas, mudar para qual espaço da memória está sendo\n",
    "referenciado. Veja o exemplo a seguir."
   ]
  },
  {
   "cell_type": "code",
   "execution_count": null,
   "id": "2b7ff230",
   "metadata": {},
   "outputs": [],
   "source": [
    "x = 69.9\n",
    "y = x\n",
    "\n",
    "print(\"Inicialmente: \")\n",
    "print(\"X = \",x, \"e Y, que 'aponta' pra x recebe: \",y)\n",
    "print(\"Se fizermos uma alteração no valor de X, como por exemplo incrementar +0.1, temos que... \")\n",
    "x += 0.1\n",
    "print(\"Agora, X = \", x, \", enquanto Y = \", y)\n",
    "\n"
   ]
  },
  {
   "cell_type": "markdown",
   "id": "22c71614",
   "metadata": {},
   "source": [
    "- 5.4"
   ]
  },
  {
   "cell_type": "markdown",
   "id": "c7ccac52",
   "metadata": {},
   "source": [
    "#### Conversão para Inteiro:\n",
    "\n",
    "int(): Converte um número de ponto flutuante para um inteiro, truncando a parte decimal."
   ]
  },
  {
   "cell_type": "code",
   "execution_count": null,
   "id": "180e7242",
   "metadata": {},
   "outputs": [],
   "source": [
    "x = 3.14\n",
    "y = int(x)\n",
    "print(y)\n"
   ]
  },
  {
   "cell_type": "markdown",
   "id": "9c5f72f2",
   "metadata": {},
   "source": [
    "#### Arredondamento:\n",
    "\n",
    "round(): Arredonda um número de ponto flutuante para o inteiro mais próximo."
   ]
  },
  {
   "cell_type": "code",
   "execution_count": null,
   "id": "d949cb58",
   "metadata": {},
   "outputs": [],
   "source": [
    "x = 3.75\n",
    "y = round(x)\n",
    "print(y)"
   ]
  },
  {
   "cell_type": "markdown",
   "id": "1f294bea",
   "metadata": {},
   "source": [
    "#### math.ceil(), math.floor(): Arredonda para cima ou para baixo, respectivamente, usando funções do módulo math."
   ]
  },
  {
   "cell_type": "code",
   "execution_count": null,
   "id": "cc0036ac",
   "metadata": {},
   "outputs": [],
   "source": [
    "import math\n",
    "\n",
    "x = 3.14\n",
    "y = math.ceil(x)  # arredonda para cima\n",
    "z = math.floor(x)  # arredonda para baixo\n",
    "\n",
    "print(y)\n",
    "print(z)"
   ]
  },
  {
   "cell_type": "markdown",
   "id": "919710ac",
   "metadata": {},
   "source": [
    "#### Formatando para String:\n",
    "\n",
    "format(): Converte um número de ponto flutuante para uma string com um formato específico."
   ]
  },
  {
   "cell_type": "code",
   "execution_count": null,
   "id": "a4c7833e",
   "metadata": {},
   "outputs": [],
   "source": [
    "x = 3.14159\n",
    "y = \"{:.2f}\".format(x)  # formatado para duas casas decimais\n",
    "\n",
    "print(y)"
   ]
  },
  {
   "cell_type": "markdown",
   "id": "9439c108",
   "metadata": {},
   "source": [
    "#### Verificando se é um Número Inteiro:\n",
    "\n",
    "is_integer(): Retorna True se o número de ponto flutuante representa um número inteiro."
   ]
  },
  {
   "cell_type": "code",
   "execution_count": 18,
   "id": "812e1f5c",
   "metadata": {},
   "outputs": [
    {
     "name": "stdout",
     "output_type": "stream",
     "text": [
      "True\n"
     ]
    }
   ],
   "source": [
    "x = 5.0\n",
    "y = x.is_integer()  # retorna True\n",
    "\n",
    "print(y)"
   ]
  },
  {
   "cell_type": "markdown",
   "id": "db1acb60",
   "metadata": {},
   "source": [
    "#### Operações Matemáticas:\n",
    "\n",
    "Além das operações matemáticas básicas (+, -, *, /), você pode usar funções do módulo math para operações mais avançadas."
   ]
  },
  {
   "cell_type": "code",
   "execution_count": 19,
   "id": "c7046bc1",
   "metadata": {},
   "outputs": [
    {
     "name": "stdout",
     "output_type": "stream",
     "text": [
      "1.4142135623730951\n"
     ]
    }
   ],
   "source": [
    "import math\n",
    "\n",
    "x = 2.0\n",
    "y = math.sqrt(x)  # raiz quadrada\n",
    "\n",
    "print(y)"
   ]
  },
  {
   "cell_type": "markdown",
   "id": "eaf0e7ab",
   "metadata": {},
   "source": [
    "Estes são apenas alguns exemplos de métodos disponíveis para variáveis de ponto flutuante em Python. A escolha do método dependerá do que você precisa realizar em seu programa."
   ]
  },
  {
   "cell_type": "markdown",
   "id": "c8e99b4a",
   "metadata": {},
   "source": [
    "### Exercício 6: Manipulando listas"
   ]
  },
  {
   "cell_type": "code",
   "execution_count": 3,
   "id": "376e67e5",
   "metadata": {},
   "outputs": [
    {
     "name": "stdout",
     "output_type": "stream",
     "text": [
      "[2, 4, 6, 8, 10, 12, 14, 16, 18]\n",
      "P[:3] =  [2, 4, 6]\n",
      "P[1:] =  [4, 6, 8, 10, 12, 14, 16, 18]\n",
      "P[::2] =  [2, 6, 10, 14, 18]\n"
     ]
    }
   ],
   "source": [
    "P = [2,4,6,8,10,12,14,16,18]\n",
    "print(P)\n",
    "print(\"P[:3] = \", P[:3])\n",
    "print(\"P[1:] = \",P[1:]) # equivale a P[1:len(P)]\n",
    "print(\"P[::2] = \", P[::2])\n"
   ]
  },
  {
   "cell_type": "markdown",
   "id": "f1fda878",
   "metadata": {},
   "source": [
    "- 6.1"
   ]
  },
  {
   "cell_type": "code",
   "execution_count": 10,
   "id": "b2160736",
   "metadata": {},
   "outputs": [
    {
     "name": "stdout",
     "output_type": "stream",
     "text": [
      "[9, 8, 7, 6, 5, 4, 3, 2, 1]\n",
      "[9]\n",
      "[1, 2, 3, 4, 5, 6, 7, 8]\n",
      "[9, 7, 5, 3, 1]\n",
      "[8, 9]\n",
      "[1, 2, 3, 4, 5, 6, 7]\n"
     ]
    }
   ],
   "source": [
    "L = [1,2,3,4,5,6,7,8,9]\n",
    "print(L[::-1]) \n",
    "print(L[-1::])\n",
    "print(L[:-1:])\n",
    "print(L[::-2])\n",
    "print(L[-2::])\n",
    "print(L[:-2:])\n"
   ]
  },
  {
   "cell_type": "code",
   "execution_count": 17,
   "id": "4b09c239",
   "metadata": {},
   "outputs": [
    {
     "name": "stdout",
     "output_type": "stream",
     "text": [
      "Insira o seu ano de nascimento: 2001\n",
      "Boi\n"
     ]
    }
   ],
   "source": [
    "signo = ['Macaco', 'Galo', 'Cão', 'Porco', 'Rato', 'Boi', 'Tigre', 'Coelho', 'Dragão', 'Serpente', 'Cavalo', 'Carneiro']\n",
    "anoNascimento = int(input(\"Insira o seu ano de nascimento: \"))\n",
    "anoBase = int(1900)\n",
    "indiceAnimal = (anoNascimento - anoBase) % 12\n",
    "print(signo[indiceAnimal])\n"
   ]
  }
 ],
 "metadata": {
  "kernelspec": {
   "display_name": "Python 3 (ipykernel)",
   "language": "python",
   "name": "python3"
  },
  "language_info": {
   "codemirror_mode": {
    "name": "ipython",
    "version": 3
   },
   "file_extension": ".py",
   "mimetype": "text/x-python",
   "name": "python",
   "nbconvert_exporter": "python",
   "pygments_lexer": "ipython3",
   "version": "3.11.5"
  }
 },
 "nbformat": 4,
 "nbformat_minor": 5
}
